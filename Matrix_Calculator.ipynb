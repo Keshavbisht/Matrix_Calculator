{
 "cells": [
  {
   "cell_type": "code",
   "execution_count": 1,
   "id": "a97041db-d468-45af-b748-4639bc6df1b6",
   "metadata": {},
   "outputs": [],
   "source": [
    "import numpy as np"
   ]
  },
  {
   "cell_type": "code",
   "execution_count": 3,
   "id": "9c5ff9f4-1f3a-4e2d-ad14-bae9a4134e6e",
   "metadata": {},
   "outputs": [
    {
     "name": "stdout",
     "output_type": "stream",
     "text": [
      "Enter Matrix in String form\n"
     ]
    },
    {
     "name": "stdin",
     "output_type": "stream",
     "text": [
      " 1 23 4 6 7 8\n"
     ]
    },
    {
     "data": {
      "text/plain": [
       "array([ 1, 23,  4,  6,  7,  8])"
      ]
     },
     "execution_count": 3,
     "metadata": {},
     "output_type": "execute_result"
    }
   ],
   "source": [
    "# input 1-D Array\n",
    "\n",
    "print(\"Enter Matrix in String form\")\n",
    "list1 = list(map(int, input().split()))\n",
    "arr1D = np.array(list1)\n",
    "arr1D"
   ]
  },
  {
   "cell_type": "code",
   "execution_count": 11,
   "id": "0bf62de8-b03c-43b5-8b51-b5cb55e4d92b",
   "metadata": {},
   "outputs": [
    {
     "name": "stdout",
     "output_type": "stream",
     "text": [
      "Enter matrix shape like 3,4 or 4,4\n"
     ]
    },
    {
     "name": "stdin",
     "output_type": "stream",
     "text": [
      " 2,2\n"
     ]
    },
    {
     "name": "stdout",
     "output_type": "stream",
     "text": [
      "Enter Matrix in String form row wise\n"
     ]
    },
    {
     "name": "stdin",
     "output_type": "stream",
     "text": [
      " 1\n"
     ]
    },
    {
     "name": "stdout",
     "output_type": "stream",
     "text": [
      "INVALID TRY AGAIN\n"
     ]
    },
    {
     "data": {
      "text/plain": [
       "array([], dtype=float64)"
      ]
     },
     "execution_count": 11,
     "metadata": {},
     "output_type": "execute_result"
    }
   ],
   "source": [
    "# input 2-D Array\n",
    "\n",
    "print(\"Enter matrix shape like 3,4 or 4,4\")\n",
    "n , m = map(int, input().split(\",\"))\n",
    "print(\"Enter Matrix in String form row wise\")\n",
    "arr = []\n",
    "for _ in range(0,n,1):\n",
    "    temp = list(map(int, input().split()))\n",
    "    if(len(temp) == m):\n",
    "        arr.append(temp)\n",
    "    else:\n",
    "        print(\"INVALID TRY AGAIN\")\n",
    "        break\n",
    "arr2D = np.array(arr)\n",
    "arr2D\n",
    "        "
   ]
  },
  {
   "cell_type": "code",
   "execution_count": null,
   "id": "e155fd20-fdbc-46ef-8f08-5465f46bf04a",
   "metadata": {},
   "outputs": [],
   "source": [
    "# input 3-D Array"
   ]
  }
 ],
 "metadata": {
  "kernelspec": {
   "display_name": "Python 3 (ipykernel)",
   "language": "python",
   "name": "python3"
  },
  "language_info": {
   "codemirror_mode": {
    "name": "ipython",
    "version": 3
   },
   "file_extension": ".py",
   "mimetype": "text/x-python",
   "name": "python",
   "nbconvert_exporter": "python",
   "pygments_lexer": "ipython3",
   "version": "3.9.6"
  }
 },
 "nbformat": 4,
 "nbformat_minor": 5
}
